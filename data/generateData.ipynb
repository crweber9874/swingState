{
 "cells": [
  {
   "cell_type": "code",
   "execution_count": null,
   "metadata": {
    "vscode": {
     "languageId": "r"
    }
   },
   "outputs": [],
   "source": []
  },
  {
   "cell_type": "markdown",
   "metadata": {},
   "source": [
    "# Read in CCES, ANES, NAES\n"
   ]
  },
  {
   "cell_type": "code",
   "execution_count": 5,
   "metadata": {
    "vscode": {
     "languageId": "r"
    }
   },
   "outputs": [],
   "source": [
    "options(warn=-1)\n",
    "rm(list = ls())\n",
    "setwd(\"/Users/Chris/Dropbox/masterData/\")\n",
    "# read SPSS data\n",
    "library(foreign)\n",
    "library(dplyr)\n",
    "library(ggplot2)\n",
    "library(ggrepel)\n",
    "library(stringr)\n",
    "library(tidyr\n",
    "\n"
   ]
  },
  {
   "cell_type": "markdown",
   "metadata": {},
   "source": [
    "## Data Format\n",
    "\n",
    "- stateFIPS: NUMERIC. This is the FIPS code for the state\n",
    "- year: NUMERIC. This is the year of the survey\n",
    "- pid3: CHARACTER. This is the 3-category party identification variable. Leaners are Independent.\n",
    "- ideology: CHARACTER. This is the 3-category ideoloogy variable.\n",
    "- race: CHARACTER. (\"White\", \"Black\", \"Asian\", \"Native\", \"Other\", \"Mixed\", \"\")\n",
    "- hispanic: NUMERIC. The respondent identifies as hispanic.\n",
    "- age: NUMERIC. Respondent age.\n",
    "- gender: CHARACTER. [\"Female\", \"Male\", \"Other\", \"\"]\n",
    "- org: CHARACTER. [\"CCES\", \"ANES\", \"NAES\"]\n",
    "- idYear: NUMERIC. This is the within survey respondent ID.\n"
   ]
  },
  {
   "cell_type": "markdown",
   "metadata": {},
   "source": [
    "# The 2000 Annenberg Data\n",
    "\n",
    "The 2000 data come in different cross sections, 5 in total. So I load these, create a function to recode everything identically, and consisent with the above coding scheme. I then bind them together.\n"
   ]
  },
  {
   "cell_type": "code",
   "execution_count": 6,
   "metadata": {
    "vscode": {
     "languageId": "r"
    }
   },
   "outputs": [],
   "source": [
    "# Write a loop to open G1.sav through G5.sav\n",
    "# and save them as dataframes\n",
    "for (i in 1:5) {\n",
    "  assign(paste0(\"G\", i), read.spss(paste0(\"NAES/dat2000/G\", i, \".sav\"), add.undeclared.levels = \"no\", to.data.frame = \"TRUE\"))\n",
    "}\n"
   ]
  },
  {
   "cell_type": "code",
   "execution_count": 7,
   "metadata": {
    "vscode": {
     "languageId": "r"
    }
   },
   "outputs": [],
   "source": [
    "create2000 = function(data = G1){\n",
    "  df = data %>%\n",
    "  as.data.frame() %>%\n",
    "  mutate(stateFIPS = as.character(cst)) %>%\n",
    "  # Create state fips code from two letter abbreviation\n",
    "  mutate(stateFIPS = case_when(\n",
    "    stateFIPS == \"AL\" ~ \"01\",\n",
    "    stateFIPS == \"AK\" ~ \"02\",\n",
    "    stateFIPS == \"AZ\" ~ \"04\",\n",
    "    stateFIPS == \"AR\" ~ \"05\",\n",
    "    stateFIPS == \"CA\" ~ \"06\",\n",
    "    stateFIPS == \"CO\" ~ \"08\",\n",
    "    stateFIPS == \"CT\" ~ \"09\",\n",
    "    stateFIPS == \"DE\" ~ \"10\",\n",
    "    stateFIPS == \"FL\" ~ \"12\",\n",
    "    stateFIPS == \"GA\" ~ \"13\",\n",
    "    stateFIPS == \"HI\" ~ \"15\",\n",
    "    stateFIPS == \"ID\" ~ \"16\",\n",
    "    stateFIPS == \"IL\" ~ \"17\",\n",
    "    stateFIPS == \"IN\" ~ \"18\",\n",
    "    stateFIPS == \"IA\" ~ \"19\",\n",
    "    stateFIPS == \"KS\" ~ \"20\",\n",
    "    stateFIPS == \"KY\" ~ \"21\",\n",
    "    stateFIPS == \"LA\" ~ \"22\",\n",
    "    stateFIPS == \"ME\" ~ \"23\",\n",
    "    stateFIPS == \"MD\" ~ \"24\",\n",
    "    stateFIPS == \"MA\" ~ \"25\",\n",
    "    stateFIPS == \"MI\" ~ \"26\",\n",
    "    stateFIPS == \"MN\" ~ \"27\",\n",
    "    stateFIPS == \"MS\" ~ \"28\",\n",
    "    stateFIPS == \"MO\" ~ \"29\",\n",
    "    stateFIPS == \"MT\" ~ \"30\",\n",
    "    stateFIPS == \"NE\" ~ \"31\",\n",
    "    stateFIPS == \"NV\" ~ \"32\",\n",
    "    stateFIPS == \"NH\" ~ \"33\",\n",
    "    stateFIPS == \"NJ\" ~ \"34\",\n",
    "    stateFIPS == \"NM\" ~ \"35\",\n",
    "    stateFIPS == \"NY\" ~ \"36\",\n",
    "    stateFIPS == \"NC\" ~ \"37\",\n",
    "    stateFIPS == \"ND\" ~ \"38\",\n",
    "    stateFIPS == \"OH\" ~ \"39\",\n",
    "    stateFIPS == \"OK\" ~ \"40\",\n",
    "    stateFIPS == \"OR\" ~ \"41\",\n",
    "    stateFIPS == \"PA\" ~ \"42\",\n",
    "    stateFIPS == \"RI\" ~ \"44\",\n",
    "    stateFIPS == \"SC\" ~ \"45\",\n",
    "    stateFIPS == \"SD\" ~ \"46\",\n",
    "    stateFIPS == \"TN\" ~ \"47\",\n",
    "    stateFIPS == \"TX\" ~ \"48\",\n",
    "    stateFIPS == \"UT\" ~ \"49\",\n",
    "    stateFIPS == \"VT\" ~ \"50\",\n",
    "    stateFIPS == \"VA\" ~ \"51\",\n",
    "    stateFIPS == \"WA\" ~ \"53\",\n",
    "    stateFIPS == \"WV\" ~ \"54\",\n",
    "    stateFIPS == \"WI\" ~ \"55\",\n",
    "    stateFIPS == \"WY\" ~ \"56\",\n",
    "    TRUE ~ stateFIPS\n",
    "  )) %>%\n",
    "  mutate(pid3 = recode(as.character(cv01), \"Democrat\" = \"Democrat\", \"Republican\" = \"Republican\", \"Independent\" = \"Independent\", \"Something else\" = \"Independent\", \"No answer\" = \"\", \"Dont know\" = \"\", \"Verbatim\" = \"\")) %>%\n",
    "  mutate(ideology = recode(as.character(cv04),\n",
    "    \"Very conservative\" = \"Conservative\", \"Conservative\" = \"Conservative\", \"Moderate\" = \"Moderate\", \"Liberal\" = \"Liberal\", \"Very liberal\" = \"Liberal\",\n",
    "    \"No answer\" = \"\", \"Dont know\" = \"\"\n",
    "  )) %>%\n",
    "  mutate(year = 2000) %>%\n",
    "  mutate(idYear = row_number()) %>%\n",
    "  select(stateFIPS, idYear, year, pid3, ideology, race = cw03, hispanic = cw04, age = cw02, sex = cw01) %>%\n",
    "  mutate(race = as.character(race)) %>%\n",
    "  mutate(sex = as.character(sex)) %>%\n",
    "  mutate(race = ifelse(race %in% c(\"No answer\", \"Verbatim\", \"Dont know\"), \"\", race)) %>%\n",
    "  mutate(sex = ifelse(sex %in% c(\"No answer\", \"Verbatim\", \"Dont know\"), \"\", sex)) %>%\n",
    "  mutate(hispanic = ifelse(hispanic == \"Yes\", 1, 0)) %>%\n",
    "  mutate(org =\"NAES\")\n",
    "  return(df) }\n"
   ]
  },
  {
   "cell_type": "code",
   "execution_count": 9,
   "metadata": {
    "vscode": {
     "languageId": "r"
    }
   },
   "outputs": [],
   "source": [
    "# Construct Data\n",
    "dat00 <-\n",
    "  rbind(\n",
    "    create2000(G1),\n",
    "    create2000(G2),\n",
    "    create2000(G3),\n",
    "    create2000(G4),\n",
    "    create2000(G5)\n",
    "  )\n"
   ]
  },
  {
   "cell_type": "markdown",
   "metadata": {},
   "source": [
    "# The 2004 National Annenberg Election Survey\n",
    "\n",
    "The formatting is a bit different for this one. I load it in, and then recode it to match the above coding scheme."
   ]
  },
  {
   "cell_type": "code",
   "execution_count": 14,
   "metadata": {
    "vscode": {
     "languageId": "r"
    }
   },
   "outputs": [
    {
     "data": {
      "text/html": [
       "<table class=\"dataframe\">\n",
       "<caption>A data.frame: 6 × 10</caption>\n",
       "<thead>\n",
       "\t<tr><th></th><th scope=col>stateFIPS</th><th scope=col>idYear</th><th scope=col>year</th><th scope=col>pid3</th><th scope=col>ideology</th><th scope=col>race</th><th scope=col>hispanic</th><th scope=col>age</th><th scope=col>sex</th><th scope=col>org</th></tr>\n",
       "\t<tr><th></th><th scope=col>&lt;chr&gt;</th><th scope=col>&lt;int&gt;</th><th scope=col>&lt;dbl&gt;</th><th scope=col>&lt;chr&gt;</th><th scope=col>&lt;chr&gt;</th><th scope=col>&lt;chr&gt;</th><th scope=col>&lt;dbl&gt;</th><th scope=col>&lt;dbl&gt;</th><th scope=col>&lt;fct&gt;</th><th scope=col>&lt;chr&gt;</th></tr>\n",
       "</thead>\n",
       "<tbody>\n",
       "\t<tr><th scope=row>1</th><td>34</td><td>1</td><td>2004</td><td>Democrat   </td><td>Conservative</td><td>Other</td><td>1</td><td>70</td><td>Female</td><td>NAES</td></tr>\n",
       "\t<tr><th scope=row>2</th><td>34</td><td>2</td><td>2004</td><td>Democrat   </td><td>Moderate    </td><td>White</td><td>0</td><td>54</td><td>Female</td><td>NAES</td></tr>\n",
       "\t<tr><th scope=row>3</th><td>23</td><td>3</td><td>2004</td><td>Independent</td><td>Moderate    </td><td>White</td><td>0</td><td>74</td><td>Male  </td><td>NAES</td></tr>\n",
       "\t<tr><th scope=row>4</th><td>54</td><td>4</td><td>2004</td><td>Republican </td><td>Moderate    </td><td>Other</td><td>0</td><td>73</td><td>Female</td><td>NAES</td></tr>\n",
       "\t<tr><th scope=row>5</th><td>39</td><td>5</td><td>2004</td><td>Independent</td><td>Liberal     </td><td>White</td><td>0</td><td>48</td><td>Female</td><td>NAES</td></tr>\n",
       "\t<tr><th scope=row>6</th><td>25</td><td>6</td><td>2004</td><td>Democrat   </td><td>Liberal     </td><td>White</td><td>0</td><td>58</td><td>Male  </td><td>NAES</td></tr>\n",
       "</tbody>\n",
       "</table>\n"
      ],
      "text/latex": [
       "A data.frame: 6 × 10\n",
       "\\begin{tabular}{r|llllllllll}\n",
       "  & stateFIPS & idYear & year & pid3 & ideology & race & hispanic & age & sex & org\\\\\n",
       "  & <chr> & <int> & <dbl> & <chr> & <chr> & <chr> & <dbl> & <dbl> & <fct> & <chr>\\\\\n",
       "\\hline\n",
       "\t1 & 34 & 1 & 2004 & Democrat    & Conservative & Other & 1 & 70 & Female & NAES\\\\\n",
       "\t2 & 34 & 2 & 2004 & Democrat    & Moderate     & White & 0 & 54 & Female & NAES\\\\\n",
       "\t3 & 23 & 3 & 2004 & Independent & Moderate     & White & 0 & 74 & Male   & NAES\\\\\n",
       "\t4 & 54 & 4 & 2004 & Republican  & Moderate     & Other & 0 & 73 & Female & NAES\\\\\n",
       "\t5 & 39 & 5 & 2004 & Independent & Liberal      & White & 0 & 48 & Female & NAES\\\\\n",
       "\t6 & 25 & 6 & 2004 & Democrat    & Liberal      & White & 0 & 58 & Male   & NAES\\\\\n",
       "\\end{tabular}\n"
      ],
      "text/markdown": [
       "\n",
       "A data.frame: 6 × 10\n",
       "\n",
       "| <!--/--> | stateFIPS &lt;chr&gt; | idYear &lt;int&gt; | year &lt;dbl&gt; | pid3 &lt;chr&gt; | ideology &lt;chr&gt; | race &lt;chr&gt; | hispanic &lt;dbl&gt; | age &lt;dbl&gt; | sex &lt;fct&gt; | org &lt;chr&gt; |\n",
       "|---|---|---|---|---|---|---|---|---|---|---|\n",
       "| 1 | 34 | 1 | 2004 | Democrat    | Conservative | Other | 1 | 70 | Female | NAES |\n",
       "| 2 | 34 | 2 | 2004 | Democrat    | Moderate     | White | 0 | 54 | Female | NAES |\n",
       "| 3 | 23 | 3 | 2004 | Independent | Moderate     | White | 0 | 74 | Male   | NAES |\n",
       "| 4 | 54 | 4 | 2004 | Republican  | Moderate     | Other | 0 | 73 | Female | NAES |\n",
       "| 5 | 39 | 5 | 2004 | Independent | Liberal      | White | 0 | 48 | Female | NAES |\n",
       "| 6 | 25 | 6 | 2004 | Democrat    | Liberal      | White | 0 | 58 | Male   | NAES |\n",
       "\n"
      ],
      "text/plain": [
       "  stateFIPS idYear year pid3        ideology     race  hispanic age sex    org \n",
       "1 34        1      2004 Democrat    Conservative Other 1        70  Female NAES\n",
       "2 34        2      2004 Democrat    Moderate     White 0        54  Female NAES\n",
       "3 23        3      2004 Independent Moderate     White 0        74  Male   NAES\n",
       "4 54        4      2004 Republican  Moderate     Other 0        73  Female NAES\n",
       "5 39        5      2004 Independent Liberal      White 0        48  Female NAES\n",
       "6 25        6      2004 Democrat    Liberal      White 0        58  Male   NAES"
      ]
     },
     "metadata": {},
     "output_type": "display_data"
    }
   ],
   "source": [
    "NAES04 <- read.spss(\"NAES/DataNRCS.sav\", add.undeclared.levels = \"no\", to.data.frame = \"TRUE\")\n",
    "\n",
    "dat04 <- NAES04 %>%\n",
    "  as.data.frame() %>%\n",
    "  mutate(stateFIPS = as.character(cST)) %>%\n",
    "  mutate(stateFIPS = str_extract(stateFIPS, \"\\\\d+\")) %>%\n",
    "  mutate(stateFIPS = str_pad(dat04$stateFIPS, width = 2, side = \"left\", pad = \"0\")) %>%\n",
    "  mutate(pid3 = recode(as.character(cMA01), \"Democrat\" = \"Democrat\", \"Republican\" = \"Republican\", \"Independent\" = \"Independent\", \"Something else\" = \"Independent\", \"Refused\" = \"\", \"Don't know\" = \"\")) %>%\n",
    "  # Recode ideology a character correctl\n",
    "  mutate(ideology = recode(as.character(cMA06), \"Very conservative\" = \"Conservative\", \"Conservative\" = \"Conservative\", \"Moderate\" = \"Moderate\", \"Liberal\" = \"Liberal\", \"Very liberal\" = \"Liberal\", \"Refused\" = \"\", \"Don't know\" = \"\" )) %>%\n",
    "  mutate(year = 2004) %>%\n",
    "  mutate(idYear = c(1:nrow(.))) %>%\n",
    "  select(stateFIPS, idYear, year, pid3, ideology, race = cWC03, hispanic = cWC01, age = cWA02, sex = cWA01) %>%\n",
    "  mutate(hispanic = ifelse(hispanic == \"Yes\", 1, 0)) %>%\n",
    "  mutate(race = as.character(race)) %>%\n",
    "  mutate(race = ifelse(race %in% c(\"No answer\", \"Verbatim\", \"Don't know\", \"Refused\"), \"\", race)) %>%\n",
    "  mutate(race = ifelse(race == \"American Indian\", \"Native\", race)) %>%\n",
    "  mutate(org = \"NAES\")\n",
    "head(dat04)\n"
   ]
  },
  {
   "cell_type": "code",
   "execution_count": 16,
   "metadata": {
    "vscode": {
     "languageId": "r"
    }
   },
   "outputs": [],
   "source": [
    "# Extract the state FIPS code from the state variable\n",
    "NAES08 <- read.spss(\"NAES/naes08-phone-nat-rcs-data-compact.sav\", add.undeclared.levels = \"no\", to.data.frame = \"TRUE\")"
   ]
  },
  {
   "cell_type": "code",
   "execution_count": 17,
   "metadata": {
    "vscode": {
     "languageId": "r"
    }
   },
   "outputs": [],
   "source": [
    "\n",
    "NAES08$pid3 <- recode(as.numeric(NAES08$MA01), `1` = \"Democrat\", `2` = \"Republican\", `3` = \"Independent\", `4` = \"Independent\", `5` = \"\", `6` = \"\")\n",
    "NAES08$ideology <- recode(as.numeric(NAES08$MA04), `1` = \"Conservative\", `2` = \"Conservative\", `3` = \"Moderate\", `4` = \"Liberal\", `5` = \"Liberal\", `6` = \"\", `7` = \"\")\n",
    "NAES08$Race <- recode(as.numeric(NAES08$WC03),\n",
    "  `1` = \"White\",\n",
    "  `2` = \"Black\",\n",
    "  `3` = \"Asian\",\n",
    "  `4` = \"Native\",\n",
    "  `5` = \"Other\",\n",
    "  `6` = \"Mixed\",\n",
    "  `7` = \"Other\",\n",
    "  `8` = \"\",\n",
    "  `9` = \"\"\n",
    ")\n",
    "NAES08$year <- 2008\n",
    "NAES08$Hispanic <- recode(as.numeric(NAES08$WC03),\n",
    "  \"1\" = \"1\",\n",
    "  \"2\" = \"1\",\n",
    "  \"3\" = \"0\",\n",
    "  \"4\" = \"0\",\n",
    "  \"5\" = \"1\",\n",
    "  \"6\" = \"0\",\n",
    "  \"7\" = \"0\",\n",
    "  \"8\" = \"0\",\n",
    "  \"9\" = \"0\"\n",
    ") %>% as.numeric()\n",
    "\n",
    "NAES08$age <- NAES08$WA02\n",
    "NAES08$sex <- NAES08$WA01\n",
    "NAES08$year <- 2008\n",
    "NAES08$org <- \"NAES\"\n"
   ]
  },
  {
   "cell_type": "code",
   "execution_count": 21,
   "metadata": {
    "vscode": {
     "languageId": "r"
    }
   },
   "outputs": [],
   "source": [
    "NAES08$stateNAME <- str_extract_all(NAES08$WFc01, \"[A-Z][A-Z]\") %>% unlist()\n",
    "recode_state_fips <- function(state_abbr) {\n",
    "  state_fips_codes <- c(\n",
    "    \"AL\" = 1, \"AZ\" = 4, \"AR\" = 5, \"CA\" = 6, \"CO\" = 8, \"CT\" = 9, \"DE\" = 10, \"DC\" = 11,\n",
    "    \"FL\" = 12, \"GA\" = 13, \"ID\" = 16, \"IL\" = 17, \"IN\" = 18, \"IA\" = 19, \"KS\" = 20,\n",
    "    \"KY\" = 21, \"LA\" = 22, \"ME\" = 23, \"MD\" = 24, \"MA\" = 25, \"MI\" = 26, \"MN\" = 27,\n",
    "    \"MS\" = 28, \"MO\" = 29, \"MT\" = 30, \"NE\" = 31, \"NV\" = 32, \"NH\" = 33, \"NJ\" = 34,\n",
    "    \"NM\" = 35, \"NY\" = 36, \"NC\" = 37, \"ND\" = 38, \"OH\" = 39, \"OK\" = 40, \"OR\" = 41,\n",
    "    \"PA\" = 42, \"RI\" = 44, \"SC\" = 45, \"SD\" = 46, \"TN\" = 47, \"TX\" = 48, \"UT\" = 49,\n",
    "    \"VT\" = 50, \"VA\" = 51, \"WA\" = 53, \"WV\" = 54, \"WI\" = 55, \"WY\" = 56\n",
    "  )\n",
    "\n",
    "  # Convert state abbreviation to FIPS code\n",
    "  fips_code <- state_fips_codes[state_abbr]\n",
    "  return(fips_code)\n",
    "}\n",
    "\n",
    "NAES08$stateFIPS <- recode_state_fips(NAES08$stateNAME)\n",
    "NAES08$stateFIPS <- str_pad(NAES08$stateFIPS, width = 2, side = \"left\", pad = \"0\")\n",
    "NAES08$idYear <- c(1:nrow(NAES08))\n",
    "NAES08$age <- ifelse(NAES08$age > 100, NA, NAES08$age)\n"
   ]
  },
  {
   "cell_type": "code",
   "execution_count": 22,
   "metadata": {
    "vscode": {
     "languageId": "r"
    }
   },
   "outputs": [],
   "source": [
    "\n",
    "NAES08 <- NAES08 %>% select(hispanic = Hispanic, year, race = Race, ideology, pid3, age, sex, year, org, stateFIPS, idYear)\n"
   ]
  },
  {
   "cell_type": "code",
   "execution_count": 29,
   "metadata": {
    "vscode": {
     "languageId": "r"
    }
   },
   "outputs": [
    {
     "data": {
      "text/html": [
       "<table class=\"dataframe\">\n",
       "<caption>A data.frame: 6 × 10</caption>\n",
       "<thead>\n",
       "\t<tr><th></th><th scope=col>pid3</th><th scope=col>ideology</th><th scope=col>sex</th><th scope=col>age</th><th scope=col>race</th><th scope=col>stateFIPS</th><th scope=col>year</th><th scope=col>org</th><th scope=col>idYear</th><th scope=col>hispanic</th></tr>\n",
       "\t<tr><th></th><th scope=col>&lt;chr&gt;</th><th scope=col>&lt;chr&gt;</th><th scope=col>&lt;chr&gt;</th><th scope=col>&lt;int&gt;</th><th scope=col>&lt;chr&gt;</th><th scope=col>&lt;chr&gt;</th><th scope=col>&lt;int&gt;</th><th scope=col>&lt;chr&gt;</th><th scope=col>&lt;int&gt;</th><th scope=col>&lt;dbl&gt;</th></tr>\n",
       "</thead>\n",
       "<tbody>\n",
       "\t<tr><th scope=row>1</th><td>Democrat   </td><td>Liberal </td><td>Female</td><td>32</td><td>White</td><td>37</td><td>2006</td><td>CCES</td><td>1</td><td>0</td></tr>\n",
       "\t<tr><th scope=row>2</th><td>Independent</td><td>Moderate</td><td>Male  </td><td>49</td><td>White</td><td>39</td><td>2006</td><td>CCES</td><td>2</td><td>0</td></tr>\n",
       "\t<tr><th scope=row>3</th><td>Democrat   </td><td>Liberal </td><td>Female</td><td>54</td><td>White</td><td>34</td><td>2006</td><td>CCES</td><td>3</td><td>0</td></tr>\n",
       "\t<tr><th scope=row>4</th><td>Democrat   </td><td>Liberal </td><td>Female</td><td>34</td><td>Black</td><td>17</td><td>2006</td><td>CCES</td><td>4</td><td>0</td></tr>\n",
       "\t<tr><th scope=row>5</th><td>Democrat   </td><td>Liberal </td><td>Male  </td><td>20</td><td>White</td><td>36</td><td>2006</td><td>CCES</td><td>5</td><td>0</td></tr>\n",
       "\t<tr><th scope=row>6</th><td>Independent</td><td>Liberal </td><td>Female</td><td>27</td><td>White</td><td>48</td><td>2006</td><td>CCES</td><td>6</td><td>0</td></tr>\n",
       "</tbody>\n",
       "</table>\n"
      ],
      "text/latex": [
       "A data.frame: 6 × 10\n",
       "\\begin{tabular}{r|llllllllll}\n",
       "  & pid3 & ideology & sex & age & race & stateFIPS & year & org & idYear & hispanic\\\\\n",
       "  & <chr> & <chr> & <chr> & <int> & <chr> & <chr> & <int> & <chr> & <int> & <dbl>\\\\\n",
       "\\hline\n",
       "\t1 & Democrat    & Liberal  & Female & 32 & White & 37 & 2006 & CCES & 1 & 0\\\\\n",
       "\t2 & Independent & Moderate & Male   & 49 & White & 39 & 2006 & CCES & 2 & 0\\\\\n",
       "\t3 & Democrat    & Liberal  & Female & 54 & White & 34 & 2006 & CCES & 3 & 0\\\\\n",
       "\t4 & Democrat    & Liberal  & Female & 34 & Black & 17 & 2006 & CCES & 4 & 0\\\\\n",
       "\t5 & Democrat    & Liberal  & Male   & 20 & White & 36 & 2006 & CCES & 5 & 0\\\\\n",
       "\t6 & Independent & Liberal  & Female & 27 & White & 48 & 2006 & CCES & 6 & 0\\\\\n",
       "\\end{tabular}\n"
      ],
      "text/markdown": [
       "\n",
       "A data.frame: 6 × 10\n",
       "\n",
       "| <!--/--> | pid3 &lt;chr&gt; | ideology &lt;chr&gt; | sex &lt;chr&gt; | age &lt;int&gt; | race &lt;chr&gt; | stateFIPS &lt;chr&gt; | year &lt;int&gt; | org &lt;chr&gt; | idYear &lt;int&gt; | hispanic &lt;dbl&gt; |\n",
       "|---|---|---|---|---|---|---|---|---|---|---|\n",
       "| 1 | Democrat    | Liberal  | Female | 32 | White | 37 | 2006 | CCES | 1 | 0 |\n",
       "| 2 | Independent | Moderate | Male   | 49 | White | 39 | 2006 | CCES | 2 | 0 |\n",
       "| 3 | Democrat    | Liberal  | Female | 54 | White | 34 | 2006 | CCES | 3 | 0 |\n",
       "| 4 | Democrat    | Liberal  | Female | 34 | Black | 17 | 2006 | CCES | 4 | 0 |\n",
       "| 5 | Democrat    | Liberal  | Male   | 20 | White | 36 | 2006 | CCES | 5 | 0 |\n",
       "| 6 | Independent | Liberal  | Female | 27 | White | 48 | 2006 | CCES | 6 | 0 |\n",
       "\n"
      ],
      "text/plain": [
       "  pid3        ideology sex    age race  stateFIPS year org  idYear hispanic\n",
       "1 Democrat    Liberal  Female 32  White 37        2006 CCES 1      0       \n",
       "2 Independent Moderate Male   49  White 39        2006 CCES 2      0       \n",
       "3 Democrat    Liberal  Female 54  White 34        2006 CCES 3      0       \n",
       "4 Democrat    Liberal  Female 34  Black 17        2006 CCES 4      0       \n",
       "5 Democrat    Liberal  Male   20  White 36        2006 CCES 5      0       \n",
       "6 Independent Liberal  Female 27  White 48        2006 CCES 6      0       "
      ]
     },
     "metadata": {},
     "output_type": "display_data"
    }
   ],
   "source": [
    "library(readstata13)\n",
    "CCES <- read.dta13(\"CCES/common/cumulative_2006-2022.dta\", convert.factors = \"FALSE\")\n",
    "\n",
    "\n",
    "CCESData <- CCES %>%\n",
    "  mutate(pid3 = recode(as.character(pid3), `1` = \"Democrat\", `2` = \"Republican\", `3` = \"Independent\", `4` = \"Independent\", `5` = \"\")) %>%\n",
    "  mutate(ideology = recode(as.character(ideo5), `1` = \"Liberal\", `2` = \"Liberal\", `3` = \"Moderate\", `4` = \"Conservative\", `5` = \"Conservative\", `6` = \"\")) %>%\n",
    "  mutate(sex = recode(sex, `1` = \"Male\", `2` = \"Female\", `3` = \"\")) %>%\n",
    "  mutate(age = age) %>%\n",
    "  mutate(RACE = recode(race, `1` = \"White\", `2` = \"Black\", `3` = \"Other\", `4` = \"Asian\", `5` = \"Native\", `6` = \"Other\", `7` = \"Other\", `8` = \"Other\")) %>%\n",
    "  mutate(stateFIPS = as.character(state)) %>%\n",
    "  mutate(year = year) %>%\n",
    "  mutate(org = \"CCES\") %>%\n",
    "  mutate(idYear = c(1:nrow(.))) %>%\n",
    "  mutate(hispanic = ifelse(as.numeric(race) == 3, 1, 0)) %>%\n",
    "  select(pid3, ideology, sex, age, race = RACE, stateFIPS, year, org, idYear, hispanic) %>%\n",
    "  mutate(stateFIPS = str_pad(stateFIPS, width = 2, side = \"left\", pad = \"0\"))\n",
    "\n",
    "\n",
    "CCESData %>% head()\n"
   ]
  },
  {
   "cell_type": "code",
   "execution_count": 30,
   "metadata": {
    "vscode": {
     "languageId": "r"
    }
   },
   "outputs": [
    {
     "data": {
      "text/html": [
       "'/Users/Chris/Dropbox/masterData'"
      ],
      "text/latex": [
       "'/Users/Chris/Dropbox/masterData'"
      ],
      "text/markdown": [
       "'/Users/Chris/Dropbox/masterData'"
      ],
      "text/plain": [
       "[1] \"/Users/Chris/Dropbox/masterData\""
      ]
     },
     "metadata": {},
     "output_type": "display_data"
    }
   ],
   "source": [
    "# ANES\n",
    "# print the working directory\n",
    "getwd()\n",
    "anes <- read.csv(\"ANES_CrossSections/cumulative1023/anes/cumu.csv\")"
   ]
  },
  {
   "cell_type": "code",
   "execution_count": 33,
   "metadata": {
    "vscode": {
     "languageId": "r"
    }
   },
   "outputs": [],
   "source": [
    "# Recodes, stateFIPS, idYear, pid3, ideology, race, hisanic, age, sex, org a 10 column\n",
    "ANES <- anes %>%\n",
    "  mutate(pid3 = recode(as.numeric(VCF0302), `1` = \"Republican\", `2` = \"Independent\", `3` = \"Independent\", `4` = \"Independent\", `5` = \"Democrat\", `8` = \"\", `9` = \"\")) %>%\n",
    "  mutate(ideology = recode(VCF0803,\n",
    "    `1` = \"Liberal\",\n",
    "    `2` = \"Liberal\", `3` = \"Liberal\", `4` = \"Moderate\", `5` = \"Conservative\",\n",
    "    `5` = \"Conservative\", `6` = \"Conservative\", `7` = \"Conservative\", `9` = \"\", `0` = \"\"\n",
    "  )) %>%\n",
    "  mutate(age = car::recode(as.numeric(VCF0102), \"1 =21; 2=30; 3=40; 4=50; 5=60; 6=70; 7=80\")) %>%\n",
    "  mutate(gender = car::recode(as.numeric(VCF0104), \"1 = 'Male'; 2 = 'Female'\")) %>%\n",
    "  mutate(race = recode(VCF0105a, `1` = \"White\", `2` = \"Black\", `3` = \"Asian\", `4` = \"Native\", `5` = \"Other\", `6` = \"Other\", `7` = \"Mixed\", `9` = \"\")) %>%\n",
    "  mutate(hispanic = car::recode(as.numeric(VCF0104), \"1:4 = 0; 5=1; 6:7 =0\")) %>%\n",
    "  mutate(idYear = c(1:nrow(.))) %>%\n",
    "  mutate(stateFIPS = as.character(VCF0901a)) %>%\n",
    "  mutate(stateFIPS = str_pad(stateFIPS, width = 2, side = \"left\", pad = \"0\")) %>%\n",
    "  mutate(year = VCF0004) %>%\n",
    "  mutate(org = \"ANES\") %>%\n",
    "  select(pid3, ideology, age, sex = gender, race, hispanic, year, idYear, stateFIPS, org) %>%\n",
    "  mutate(sex = as.character(sex)) %>%\n",
    "  mutate(sex = ifelse(sex == \"Male\" | sex == \"Female\", sex, \"\")) %>%\n",
    "  filter(year >= 2000)\n",
    "\n"
   ]
  },
  {
   "cell_type": "code",
   "execution_count": 38,
   "metadata": {
    "vscode": {
     "languageId": "r"
    }
   },
   "outputs": [],
   "source": [
    "fullData <- rbind(\n",
    "  ANES %>% select(order(colnames(ANES))),\n",
    "  CCESData %>% select(order(colnames(CCESData))),\n",
    "  dat00 %>% select(order(colnames(dat00))),\n",
    "  dat04 %>% select(order(colnames(dat04))),\n",
    "  NAES08 %>% select(order(colnames(NAES08)))\n",
    ") %>% filter(age <= 100) %>%\n",
    "mutate(stateFIPS = ifelse(stateFIPS == \"DC\", \"11\", stateFIPS))\n"
   ]
  },
  {
   "cell_type": "code",
   "execution_count": 40,
   "metadata": {
    "vscode": {
     "languageId": "r"
    }
   },
   "outputs": [],
   "source": [
    "# Save the data\n",
    "fullData %>% write.csv(\"pooledData/pooled.csv\", row.names = FALSE)"
   ]
  },
  {
   "cell_type": "markdown",
   "metadata": {},
   "source": [
    "# Estimate Some Stuff\n"
   ]
  },
  {
   "cell_type": "code",
   "execution_count": 15,
   "metadata": {
    "vscode": {
     "languageId": "r"
    }
   },
   "outputs": [
    {
     "data": {
      "text/html": [
       "<style>\n",
       ".list-inline {list-style: none; margin:0; padding: 0}\n",
       ".list-inline>li {display: inline-block}\n",
       ".list-inline>li:not(:last-child)::after {content: \"\\00b7\"; padding: 0 .5ex}\n",
       "</style>\n",
       "<ol class=list-inline><li>428195</li><li>5</li></ol>\n"
      ],
      "text/latex": [
       "\\begin{enumerate*}\n",
       "\\item 428195\n",
       "\\item 5\n",
       "\\end{enumerate*}\n"
      ],
      "text/markdown": [
       "1. 428195\n",
       "2. 5\n",
       "\n",
       "\n"
      ],
      "text/plain": [
       "[1] 428195      5"
      ]
     },
     "metadata": {},
     "output_type": "display_data"
    }
   ],
   "source": [
    "library(dplyr)\n",
    "dat = read.csv(\"/Users/Chris/Dropbox/masterData/pooledData/pooled.csv\")\n",
    "\n",
    "dat <- dat %>%\n",
    "  mutate(ideo3 = ifelse(ideology == \"\", NA, ideology)) %>%\n",
    "  mutate(pid3 = ifelse(pid3 == \"\", NA, pid3)) %>%\n",
    "  select(ideo3, pid3, year, stateFIPS, org) %>%\n",
    "  filter(year == 2000 | year == 2004 | year == 2008 | year == 2012 | year == 2016 | year == 2020) %>%\n",
    "  filter(stateFIPS != \"DC\") %>%\n",
    "  filter(stateFIPS!= \"0\")\n",
    "dim(dat)"
   ]
  },
  {
   "cell_type": "code",
   "execution_count": 18,
   "metadata": {
    "vscode": {
     "languageId": "r"
    }
   },
   "outputs": [
    {
     "name": "stderr",
     "output_type": "stream",
     "text": [
      "Start sampling\n",
      "\n"
     ]
    },
    {
     "name": "stdout",
     "output_type": "stream",
     "text": [
      "Chain 1: ------------------------------------------------------------\n",
      "Chain 1: EXPERIMENTAL ALGORITHM:\n",
      "Chain 1:   This procedure has not been thoroughly tested and may be unstable\n",
      "Chain 1:   or buggy. The interface is subject to change.\n",
      "Chain 1: ------------------------------------------------------------\n",
      "Chain 1: \n",
      "Chain 1: \n",
      "Chain 1: \n",
      "Chain 1: Gradient evaluation took 0.454138 seconds\n",
      "Chain 1: 1000 transitions using 10 leapfrog steps per transition would take 4541.38 seconds.\n",
      "Chain 1: Adjust your expectations accordingly!\n",
      "Chain 1: \n",
      "Chain 1: \n",
      "Chain 1: Begin eta adaptation.\n",
      "Chain 1: Iteration:   1 / 250 [  0%]  (Adaptation)\n",
      "Chain 1: Iteration:  50 / 250 [ 20%]  (Adaptation)\n",
      "Chain 1: Iteration: 100 / 250 [ 40%]  (Adaptation)\n",
      "Chain 1: Iteration: 150 / 250 [ 60%]  (Adaptation)\n",
      "Chain 1: Iteration: 200 / 250 [ 80%]  (Adaptation)\n",
      "Chain 1: Success! Found best value [eta = 1] earlier than expected.\n",
      "Chain 1: \n",
      "Chain 1: Begin stochastic gradient ascent.\n",
      "Chain 1:   iter             ELBO   delta_ELBO_mean   delta_ELBO_med   notes \n",
      "Chain 1:    100      -442542.351             1.000            1.000\n",
      "Chain 1:    200      -439247.021             0.504            1.000\n",
      "Chain 1:    300      -439010.011             0.004            0.008   MEAN ELBO CONVERGED   MEDIAN ELBO CONVERGED\n",
      "Chain 1: \n",
      "Chain 1: Drawing a sample of size 1000 from the approximate posterior... \n",
      "Chain 1: COMPLETED.\n"
     ]
    }
   ],
   "source": [
    "library(brms)\n",
    "library(tidybayes)\n",
    "model1 <- brm(pid3 ~ 1 +\n",
    "  (1| year) + (1 | stateFIPS),\n",
    "data = dat,\n",
    "family = categorical(link = \"logit\"),\n",
    "algorithm = \"meanfield\"\n",
    ")"
   ]
  },
  {
   "cell_type": "code",
   "execution_count": 27,
   "metadata": {
    "vscode": {
     "languageId": "r"
    }
   },
   "outputs": [],
   "source": [
    "library(dplyr)\n",
    "model1$data  %>%\n",
    "  add_linpred_draws(model1, draws = 1000) %>% head()\n",
    "# expanded_dat_1 <- fixed_data %>%\n",
    "#   group_by(year) %>%\n",
    "#   mutate(authoritarianism = quantile(authoritarianism, 0.975)) %>%\n",
    "#   add_linpred_draws(fit0b, draws = 1000) %>%\n",
    "#   mutate(high_auth = .linpred) %>%\n",
    "#   select(high_auth)\n",
    "\n",
    "# expanded_dat_0$high_auth <- expanded_dat_1$high_auth\n",
    "# expanded_dat_0$marginal <- plogis(expanded_dat_0$high_auth) - plogis(expanded_dat_0$low_auth)\n",
    "\n",
    "# marginals <- expanded_dat_0 %>%\n",
    "#   group_by(year) %>%\n",
    "#   mutate(min = quantile(marginal, 0.025)) %>%\n",
    "#   mutate(med = quantile(marginal, 0.50)) %>%\n",
    "#   mutate(max = quantile(marginal, 0.975)) %>%\n",
    "#   summarize(\n",
    "#     min = quantile(min, 0.025),\n",
    "#     med = quantile(med, 0.50),\n",
    "#     max = quantile(max, 0.975)\n",
    "#   )\n",
    "# marginals"
   ]
  },
  {
   "cell_type": "code",
   "execution_count": 23,
   "metadata": {
    "vscode": {
     "languageId": "r"
    }
   },
   "outputs": [
    {
     "name": "stderr",
     "output_type": "stream",
     "text": [
      "Warning message:\n",
      "\"Rows containing NAs were excluded from the model.\"\n",
      "Compiling Stan program...\n",
      "\n",
      "Start sampling\n",
      "\n"
     ]
    }
   ],
   "source": [
    "library(brms)\n",
    "library(tidybayes)\n",
    "\n",
    "model1 <- brm(pid3 ~ ideo3 +\n",
    "  (1  + ideo3| year) + (1 + ideo3 | stateFIPS),\n",
    "data = dat,\n",
    "family = categorical(link = \"logit\"),\n",
    "seed = 1234,\n",
    "iter = 5000\n",
    ")\n",
    "\n",
    "model2 <- brm(pid3 ~ ideo3 + as.factor(year) +\n",
    " (1 + ideo3 | stateFIPS),\n",
    "data = dat,\n",
    "family = categorical(link = \"logit\"),\n",
    "seed = 1234,\n",
    "iter = 5000\n",
    ")"
   ]
  },
  {
   "cell_type": "code",
   "execution_count": 46,
   "metadata": {
    "vscode": {
     "languageId": "r"
    }
   },
   "outputs": [],
   "source": [
    "model <- brm(ideo3 ~ pid3 +\n",
    "  (1 | year) + (1 | stateFIPS) + (1 | org),\n",
    "  data = filterDat,\n",
    "  family = categorical(link = \"logit\"),\n",
    "  algorithm = \"vb\",\n",
    "  seed = 1234,\n",
    "  iter = 1000\n",
    ")\n"
   ]
  },
  {
   "cell_type": "markdown",
   "metadata": {},
   "source": [
    "# Sandbox\n"
   ]
  },
  {
   "cell_type": "code",
   "execution_count": 116,
   "metadata": {
    "vscode": {
     "languageId": "r"
    }
   },
   "outputs": [
    {
     "data": {
      "text/html": [
       "<pre class=language-r><code>function (x, y, z) \n",
       ".Call(&lt;pointer: 0x10fee7c10&gt;, x, y, z)</code></pre>"
      ],
      "text/latex": [
       "\\begin{minted}{r}\n",
       "function (x, y, z) \n",
       ".Call(<pointer: 0x10fee7c10>, x, y, z)\n",
       "\\end{minted}"
      ],
      "text/markdown": [
       "```r\n",
       "function (x, y, z) \n",
       ".Call(<pointer: 0x10fee7c10>, x, y, z)\n",
       "```"
      ],
      "text/plain": [
       "function (x, y, z) \n",
       ".Call(<pointer: 0x10fee7c10>, x, y, z)"
      ]
     },
     "metadata": {},
     "output_type": "display_data"
    },
    {
     "data": {
      "text/html": [
       "6"
      ],
      "text/latex": [
       "6"
      ],
      "text/markdown": [
       "6"
      ],
      "text/plain": [
       "[1] 6"
      ]
     },
     "metadata": {},
     "output_type": "display_data"
    }
   ],
   "source": [
    "library(Rcpp)\n",
    "#>\n",
    "#> Attaching package: 'Rcpp'\n",
    "#> The following object is masked from 'package:inline':\n",
    "#>\n",
    "#>     registerPlugin\n",
    "cppFunction(\"int add(int x, int y, int z) {\n",
    "  int sum = x + y + z;\n",
    "  return sum;\n",
    "}\")\n",
    "# add works like a regular R function\n",
    "add\n",
    "#> function (x, y, z)\n",
    "#> .Call(<pointer: 0x7f96ecb3ef20>, x, y, z)\n",
    "add(1, 2, 3)\n",
    "#> [1] 6\n"
   ]
  },
  {
   "cell_type": "code",
   "execution_count": 123,
   "metadata": {
    "vscode": {
     "languageId": "r"
    }
   },
   "outputs": [
    {
     "data": {
      "text/html": [
       "1"
      ],
      "text/latex": [
       "1"
      ],
      "text/markdown": [
       "1"
      ],
      "text/plain": [
       "[1] 1"
      ]
     },
     "metadata": {},
     "output_type": "display_data"
    }
   ],
   "source": [
    "signR <- function(x) {\n",
    "  if (x > 0) {\n",
    "    1\n",
    "  } else if (x == 0) {\n",
    "    0\n",
    "  } else {\n",
    "    -1\n",
    "  }\n",
    "}\n",
    "# These two functions are equivalent. But the C++ version is much faster.\n",
    "cppFunction(\"int signC(int x) {\n",
    "  if (x > 0) {\n",
    "    return 1;\n",
    "  } else if (x == 0) {\n",
    "    return 0;\n",
    "  } else {\n",
    "    return -1;\n",
    "  }\n",
    "}\")\n",
    "\n",
    "x <- 2\n",
    "signC(x)\n"
   ]
  },
  {
   "cell_type": "code",
   "execution_count": null,
   "metadata": {
    "vscode": {
     "languageId": "r"
    }
   },
   "outputs": [],
   "source": [
    "# Vectors\n",
    "pdistR <- function(x, ys) {\n",
    "  sqrt((x - ys)^2)\n",
    "}\n",
    "\n",
    "cppFunction(\"NumericVector pdistC(double x, NumericVector ys) {\n",
    "  int n = ys.size();\n",
    "  NumericVector out(n);\n",
    "\n",
    "  for(int i = 0; i < n; ++i) {\n",
    "    out[i] = sqrt(pow(ys[i] - x, 2.0));\n",
    "  }\n",
    "  return out;\n",
    "}\")\n",
    "# Also useful\n",
    "# NumericVector zs = clone(ys).\n"
   ]
  },
  {
   "cell_type": "code",
   "execution_count": 125,
   "metadata": {
    "vscode": {
     "languageId": "r"
    }
   },
   "outputs": [
    {
     "data": {
      "text/html": [
       "<style>\n",
       ".list-inline {list-style: none; margin:0; padding: 0}\n",
       ".list-inline>li {display: inline-block}\n",
       ".list-inline>li:not(:last-child)::after {content: \"\\00b7\"; padding: 0 .5ex}\n",
       "</style>\n",
       "<ol class=list-inline><li>446</li><li>514</li><li>480</li><li>514</li><li>352</li><li>627</li><li>525</li><li>586</li><li>572</li><li>434</li></ol>\n"
      ],
      "text/latex": [
       "\\begin{enumerate*}\n",
       "\\item 446\n",
       "\\item 514\n",
       "\\item 480\n",
       "\\item 514\n",
       "\\item 352\n",
       "\\item 627\n",
       "\\item 525\n",
       "\\item 586\n",
       "\\item 572\n",
       "\\item 434\n",
       "\\end{enumerate*}\n"
      ],
      "text/markdown": [
       "1. 446\n",
       "2. 514\n",
       "3. 480\n",
       "4. 514\n",
       "5. 352\n",
       "6. 627\n",
       "7. 525\n",
       "8. 586\n",
       "9. 572\n",
       "10. 434\n",
       "\n",
       "\n"
      ],
      "text/plain": [
       " [1] 446 514 480 514 352 627 525 586 572 434"
      ]
     },
     "metadata": {},
     "output_type": "display_data"
    },
    {
     "data": {
      "text/html": [
       "<style>\n",
       ".list-inline {list-style: none; margin:0; padding: 0}\n",
       ".list-inline>li {display: inline-block}\n",
       ".list-inline>li:not(:last-child)::after {content: \"\\00b7\"; padding: 0 .5ex}\n",
       "</style>\n",
       "<ol class=list-inline><li>446</li><li>514</li><li>480</li><li>514</li><li>352</li><li>627</li><li>525</li><li>586</li><li>572</li><li>434</li></ol>\n"
      ],
      "text/latex": [
       "\\begin{enumerate*}\n",
       "\\item 446\n",
       "\\item 514\n",
       "\\item 480\n",
       "\\item 514\n",
       "\\item 352\n",
       "\\item 627\n",
       "\\item 525\n",
       "\\item 586\n",
       "\\item 572\n",
       "\\item 434\n",
       "\\end{enumerate*}\n"
      ],
      "text/markdown": [
       "1. 446\n",
       "2. 514\n",
       "3. 480\n",
       "4. 514\n",
       "5. 352\n",
       "6. 627\n",
       "7. 525\n",
       "8. 586\n",
       "9. 572\n",
       "10. 434\n",
       "\n",
       "\n"
      ],
      "text/plain": [
       " [1] 446 514 480 514 352 627 525 586 572 434"
      ]
     },
     "metadata": {},
     "output_type": "display_data"
    }
   ],
   "source": [
    "cppFunction(\"NumericVector rowSumsC(NumericMatrix x) {\n",
    "  int nrow = x.nrow(), ncol = x.ncol();\n",
    "  NumericVector out(nrow);\n",
    "\n",
    "  for (int i = 0; i < nrow; i++) {\n",
    "    double total = 0;\n",
    "    for (int j = 0; j < ncol; j++) {\n",
    "      total += x(i, j);\n",
    "    }\n",
    "    out[i] = total;\n",
    "  }\n",
    "  return out;\n",
    "}\")\n",
    "# In C++, you subset a matrix with (), not [].\n",
    "set.seed(1014)\n",
    "x <- matrix(sample(100), 10)\n",
    "rowSums(x)\n",
    "#>  [1] 446 514 480 514 352 627 525 586 572 434\n",
    "rowSumsC(x)\n"
   ]
  },
  {
   "cell_type": "code",
   "execution_count": null,
   "metadata": {
    "vscode": {
     "languageId": "r"
    }
   },
   "outputs": [],
   "source": []
  },
  {
   "cell_type": "code",
   "execution_count": null,
   "metadata": {
    "vscode": {
     "languageId": "r"
    }
   },
   "outputs": [],
   "source": [
    "#include <Rcpp.h>\n",
    "using namespace Rcpp;\n",
    "\n",
    "// [[Rcpp::export]]\n",
    "List irt2PL(NumericMatrix X, NumericVector Y, int nIter = 1000, double tol = 1e-6) {\n",
    "  int n = X.nrow(), p = X.ncol();\n",
    "  NumericVector beta(p), theta(n), eta(n), prob(n), loglik(nIter);\n",
    "  double a = 1, b = 0.1, ll = 0, llOld = -INFINITY;\n",
    "\n",
    "  for (int iter = 0; iter < nIter; iter++) {\n",
    "    // E-step\n",
    "    for (int i = 0; i < n; i++) {\n",
    "      eta[i] = X(i, _) * beta + theta[i];\n",
    "      prob[i] = exp(a * eta[i] - b * pow(eta[i], 2)) / (1 + exp(a * eta[i] - b * pow(eta[i], 2)));\n",
    "    }\n",
    "\n",
    "    // M-step\n",
    "    for (int j = 0; j < p; j++) {\n",
    "      double num = 0, denom = 0;\n",
    "      for (int i = 0; i < n; i++) {\n",
    "        num += X(i, j) * (Y[i] - prob[i]);\n",
    "        denom += pow(X(i, j), 2) * prob[i] * (1 - prob[i]);\n",
    "      }\n",
    "      beta[j] += num / denom;\n",
    "    }\n",
    "\n",
    "    for (int i = 0; i < n; i++) {\n",
    "      double num = 0, denom = 0;\n",
    "      for (int j = 0; j < p; j++) {\n",
    "        num += X(i, j) * beta[j];\n",
    "        denom += pow(X(i, j), 2) * a * exp(a * eta[i] - b * pow(eta[i], 2));\n",
    "      }\n",
    "      theta[i] += (Y[i] - exp(num)) / denom;\n",
    "    }\n",
    "\n",
    "    // Compute log-likelihood\n",
    "    ll = 0;\n",
    "    for (int i = 0; i < n; i++) {\n",
    "      ll += Y[i] * eta[i] - log(1 + exp(eta[i]));\n",
    "    }\n",
    "    loglik[iter] = ll;\n",
    "\n",
    "    // Check convergence\n",
    "    if (ll - llOld < tol) {\n",
    "      break;\n",
    "    }\n",
    "    llOld = ll;\n",
    "  }\n",
    "\n",
    "  return List::create(Named(\"beta\") = beta,\n",
    "                      Named(\"theta\") = theta,\n",
    "                      Named(\"loglik\") = loglik);\n",
    "}\n"
   ]
  },
  {
   "cell_type": "code",
   "execution_count": 133,
   "metadata": {
    "vscode": {
     "languageId": "r"
    }
   },
   "outputs": [],
   "source": [
    "install.packages(\"maxLik\")\n"
   ]
  },
  {
   "cell_type": "code",
   "execution_count": 130,
   "metadata": {
    "vscode": {
     "languageId": "r"
    }
   },
   "outputs": [
    {
     "ename": "ERROR",
     "evalue": "Error in library(bbmle): there is no package called 'bbmle'\n",
     "output_type": "error",
     "traceback": [
      "Error in library(bbmle): there is no package called 'bbmle'\nTraceback:\n",
      "1. library(bbmle)"
     ]
    }
   ],
   "source": [
    "library(maxLik)\n",
    "\n",
    "# Define the log-likelihood function for the two parameter logit model\n",
    "loglik <- function(beta, x, y) {\n",
    "  eta <- beta[1] + beta[2] * x\n",
    "  p <- exp(eta) / (1 + exp(eta))\n",
    "  sum(y * log(p) + (1 - y) * log(1 - p))\n",
    "}\n",
    "\n",
    "# Define the EM algorithm\n",
    "em_logit <- function(x, y, beta_init, n_iter = 1000, tol = 1e-6) {\n",
    "  beta <- beta_init\n",
    "  loglik_old <- -Inf\n",
    "  for (i in 1:n_iter) {\n",
    "    # E-step\n",
    "    eta <- beta[1] + beta[2] * x\n",
    "    p <- exp(eta) / (1 + exp(eta))\n",
    "\n",
    "    # M-step\n",
    "    beta_new <- mle2(loglik, start = list(beta = beta), method = \"BFGS\", x = x, y = y)$coef\n",
    "\n",
    "    # Check convergence\n",
    "    loglik_new <- loglik(beta_new, x, y)\n",
    "    if (loglik_new - loglik_old < tol) {\n",
    "      break\n",
    "    }\n",
    "    beta <- beta_new\n",
    "    loglik_old <- loglik_new\n",
    "  }\n",
    "  return(beta)\n",
    "}\n",
    "\n",
    "# Test the EM algorithm on simulated data\n",
    "set.seed(123)\n",
    "n <- 10\n",
    "x <- rnorm(n)\n",
    "beta_true <- c(-1, 2)\n",
    "p <- exp(beta_true[1] + beta_true[2] * x) / (1 + exp(beta_true[1] + beta_true[2] * x))\n",
    "y <- rbinom(n, 1, p)\n",
    "beta_init <- c(0, 0)\n",
    "beta_est <- em_logit(x, y, beta_init)\n",
    "beta_est\n"
   ]
  },
  {
   "cell_type": "code",
   "execution_count": null,
   "metadata": {
    "vscode": {
     "languageId": "r"
    }
   },
   "outputs": [],
   "source": [
    "# Define the log-likelihood function for the two parameter logit model\n",
    "loglik <- function(beta, x, y) {\n",
    "  eta <- beta[1] + beta[2] * x\n",
    "  p <- exp(eta) / (1 + exp(eta))\n",
    "  sum(y * log(p) + (1 - y) * log(1 - p))\n",
    "}\n",
    "\n",
    "# Define the EM algorithm\n",
    "em_logit <- function(x, y, beta_init, n_iter = 1000, tol = 1e-6) {\n",
    "  beta <- beta_init\n",
    "  loglik_old <- -Inf\n",
    "  for (i in 1:n_iter) {\n",
    "    # E-step\n",
    "    eta <- beta[1] + beta[2] * x\n",
    "    p <- exp(eta) / (1 + exp(eta))\n",
    "\n",
    "    # M-step\n",
    "    beta_new <- mle2(loglik, start = list(beta = beta), method = \"BFGS\", x = x, y = y)$coef\n",
    "\n",
    "    # Check convergence\n",
    "    loglik_new <- loglik(beta_new, x, y)\n",
    "    if (loglik_new - loglik_old < tol) {\n",
    "      break\n",
    "    }\n",
    "    beta <- beta_new\n",
    "    loglik_old <- loglik_new\n",
    "  }\n",
    "  return(beta)\n",
    "}\n",
    "\n",
    "# Test the EM algorithm on simulated data\n",
    "set.seed(123)\n",
    "n <- 100\n",
    "x <- rnorm(n)\n",
    "beta_true <- c(-1, 2)\n",
    "p <- exp(beta_true[1] + beta_true[2] * x) / (1 + exp(beta_true[1] + beta_true[2] * x))\n",
    "y <- rbinom(n, 1, p)\n",
    "beta_init <- c(0, 0)\n",
    "beta_est <- em_logit(x, y, beta_init)\n",
    "beta_est\n"
   ]
  },
  {
   "cell_type": "code",
   "execution_count": 4,
   "metadata": {
    "vscode": {
     "languageId": "r"
    }
   },
   "outputs": [
    {
     "data": {
      "text/html": [
       "'integer'"
      ],
      "text/latex": [
       "'integer'"
      ],
      "text/markdown": [
       "'integer'"
      ],
      "text/plain": [
       "[1] \"integer\""
      ]
     },
     "metadata": {},
     "output_type": "display_data"
    },
    {
     "data": {
      "text/html": [
       "'double'"
      ],
      "text/latex": [
       "'double'"
      ],
      "text/markdown": [
       "'double'"
      ],
      "text/plain": [
       "[1] \"double\""
      ]
     },
     "metadata": {},
     "output_type": "display_data"
    }
   ],
   "source": [
    "# Load Rcpp\n",
    "library(Rcpp)\n",
    "\n",
    "# Evaluate 2 + 2 in C++\n",
    "x <- evalCpp(\"2 + 2\")\n",
    "\n",
    "# Evaluate 2 + 2 in R\n",
    "y <- 2 + 2\n",
    "\n",
    "# Storage modes of x and y\n",
    "storage.mode(x)\n",
    "storage.mode(y)\n",
    "\n",
    "# Change the C++ expression so that it returns a double\n",
    "z <- evalCpp(\"2.0 + 2.0\")\n"
   ]
  },
  {
   "cell_type": "code",
   "execution_count": 5,
   "metadata": {
    "vscode": {
     "languageId": "r"
    }
   },
   "outputs": [
    {
     "data": {
      "text/html": [
       "2.91547594742265"
      ],
      "text/latex": [
       "2.91547594742265"
      ],
      "text/markdown": [
       "2.91547594742265"
      ],
      "text/plain": [
       "[1] 2.915476"
      ]
     },
     "metadata": {},
     "output_type": "display_data"
    }
   ],
   "source": [
    "# Define the function euclidean_distance()\n",
    "library(Rcpp)\n",
    "\n",
    "cppFunction(\"\n",
    "  double euclidean_distance(double x, double y) {\n",
    "    return sqrt(x*x + y*y) ;\n",
    "  }\n",
    "\")\n",
    "\n",
    "# Calculate the euclidean distance\n",
    "euclidean_distance(1.5, 2.5)\n"
   ]
  },
  {
   "cell_type": "code",
   "execution_count": 7,
   "metadata": {
    "vscode": {
     "languageId": "r"
    }
   },
   "outputs": [
    {
     "name": "stdout",
     "output_type": "stream",
     "text": [
      "** 40 + 2 = 42\n"
     ]
    },
    {
     "data": {
      "text/html": [
       "42"
      ],
      "text/latex": [
       "42"
      ],
      "text/markdown": [
       "42"
      ],
      "text/plain": [
       "[1] 42"
      ]
     },
     "metadata": {},
     "output_type": "display_data"
    }
   ],
   "source": [
    "library(Rcpp)\n",
    "\n",
    "# Define the function add()\n",
    "cppFunction('\n",
    "  int add(int x, int y) {\n",
    "    int res = x + y ;\n",
    "    Rprintf(\"** %d + %d = %d\\\\n\", x, y, res) ;\n",
    "    return res ;\n",
    "  }\n",
    "')\n",
    "\n",
    "# Call add() to print THE answer\n",
    "add(40, 2)\n",
    "\n",
    "cppFunction('\n",
    "  // adds x and y, but only if they are positive\n",
    "  int add_positive_numbers(int x, int y) {\n",
    "      // if x is negative, stop\n",
    "      if(x < 0) stop(\"x is negative\") ;\n",
    "\n",
    "      // if y is negative, stop\n",
    "      if(y < 0) stop(\"y is negative\") ;\n",
    "\n",
    "      return x + y ;\n",
    "  }\n",
    "')\n",
    "\n",
    "#include <Rcpp.h>\n",
    "using namespace Rcpp;\n",
    "#don't export everything to R.\n",
    "// Make square() accept and return a double\n",
    "double square(double x) {\n",
    "  // Return x times x\n",
    "  return x * x;\n",
    "}\n",
    "\n",
    "// [[Rcpp::export]]\n",
    "double dist(double x, double y) {\n",
    "  // Change this to use square()\n",
    "  return sqrt(square(x) + square(y));\n",
    "}\n",
    "\n",
    "#include <Rcpp.h>\n",
    "using namespace Rcpp;\n",
    "\n",
    "double square(double x) {\n",
    "  return x * x ;\n",
    "}\n",
    "\n",
    "// [[Rcpp::export]]\n",
    "double dist(double x, double y) {\n",
    "  return sqrt(square(x) + square(y));\n",
    "}\n",
    "\n",
    "// Start the Rcpp R comment block\n",
    "/***\n",
    "# Call dist() to the point (3, 4)\n",
    "dist(3,4)\n",
    "# Close the Rcpp R comment block\n",
    "*/\n"
   ]
  },
  {
   "cell_type": "code",
   "execution_count": null,
   "metadata": {
    "vscode": {
     "languageId": "r"
    }
   },
   "outputs": [],
   "source": [
    "#include <Rcpp.h>\n",
    "using namespace Rcpp ;\n",
    "\n",
    "// [[Rcpp::export]]\n",
    "double absolute(double x) {\n",
    "  // Test for x greater than zero\n",
    "  if(x > 0) {\n",
    "    // Return x\n",
    "    return x;\n",
    "  // Otherwise\n",
    "  } else {\n",
    "    // Return negative x\n",
    "    return -x;\n",
    "  }\n",
    "}\n",
    "\n",
    "/*** R\n",
    "absolute(pi)\n",
    "absolute(-3)\n",
    "*/"
   ]
  },
  {
   "cell_type": "code",
   "execution_count": null,
   "metadata": {
    "vscode": {
     "languageId": "r"
    }
   },
   "outputs": [],
   "source": [
    "#include <Rcpp.h>\n",
    "using namespace Rcpp;\n",
    "\n",
    "// [[Rcpp::export]]\n",
    "List create_vectors() {\n",
    "  // Create an unnamed character vector\n",
    "  CharacterVector polygons = CharacterVector::create(\"triangle\", \"square\", \"pentagon\");\n",
    "  // Create a named integer vector\n",
    "  IntegerVector mersenne_primes = IntegerVector::create(_[\"first\"] = 3, _[\"second\"] = 7, _[\"third\"] = 31);\n",
    "  // Create a named list\n",
    "  List both = List::create(_[\"polygons\"] = polygons, _[\"mersenne_primes\"] = mersenne_primes);\n",
    "  return both;\n",
    "}\n",
    "\n",
    "/*** R\n",
    "create_vectors()\n",
    "*/"
   ]
  },
  {
   "cell_type": "code",
   "execution_count": null,
   "metadata": {
    "vscode": {
     "languageId": "r"
    }
   },
   "outputs": [],
   "source": [
    "#include <Rcpp.h>\n",
    "using namespace Rcpp;\n",
    "\n",
    "// [[Rcpp::export]]\n",
    "List change_negatives_to_zero(NumericVector the_original) {\n",
    "  // Set the copy to the original\n",
    "  NumericVector the_copy = the_original;\n",
    "  int n = the_original.size();\n",
    "  for(int i = 0; i < n; i++) {\n",
    "    if(the_copy[i] < 0) the_copy[i] = 0;\n",
    "  }\n",
    "  return List::create(_[\"the_original\"] = the_original, _[\"the_copy\"] = the_copy);\n",
    "}\n",
    "\n",
    "// [[Rcpp::export]]\n",
    "List change_negatives_to_zero_with_cloning(NumericVector the_original) {\n",
    "  // Clone the original to make the copy\n",
    "  NumericVector the_copy = clone(the_original);\n",
    "  int n = the_original.size();\n",
    "  for(int i = 0; i < n; i++) {\n",
    "    if(the_copy[i] < 0) the_copy[i] = 0;\n",
    "  }\n",
    "  return List::create(_[\"the_original\"] = the_original, _[\"the_copy\"] = the_copy);\n",
    "}\n",
    "\n",
    "/*** R\n",
    "x <- c(0, -4, 1, -2, 2, 4, -3, -1, 3)\n",
    "change_negatives_to_zero(x)\n",
    "# Need to define x again because it's changed now\n",
    "x <- c(0, -4, 1, -2, 2, 4, -3, -1, 3)\n",
    "change_negatives_to_zero_with_cloning(x)\n",
    "*/"
   ]
  },
  {
   "cell_type": "code",
   "execution_count": null,
   "metadata": {
    "vscode": {
     "languageId": "r"
    }
   },
   "outputs": [],
   "source": [
    "#include <Rcpp.h>\n",
    "using namespace Rcpp;\n",
    "\n",
    "// [[Rcpp::export]]\n",
    "double weighted_mean_cpp(NumericVector x, NumericVector w) {\n",
    "  // Initialize these to zero\n",
    "  double total_w = 0;\n",
    "  double total_xw = 0;\n",
    "\n",
    "  // Set n to the size of x\n",
    "  int n = x.size();\n",
    "\n",
    "  // Specify the for loop arguments\n",
    "  for(int i = 0; i<n; i++) {\n",
    "    // Add ith weight\n",
    "    total_w += w[i];\n",
    "    // Add the ith data value times the ith weight\n",
    "    total_xw += x[i]*w[i];\n",
    "  }\n",
    "\n",
    "  // Return the total product divided by the total weight\n",
    "  return total_xw/total_w;\n",
    "}\n",
    "\n",
    "/*** R\n",
    "x <- c(0, 1, 3, 6, 2, 7, 13, 20, 12, 21, 11)\n",
    "w <- 1 / seq_along(x)\n",
    "weighted_mean_cpp(x, w)\n",
    "# Does the function give the same results as R's weighted.mean() function?\n",
    "all.equal(weighted_mean_cpp(x, w), weighted.mean(x, w))\n",
    "*/"
   ]
  },
  {
   "cell_type": "code",
   "execution_count": null,
   "metadata": {
    "vscode": {
     "languageId": "r"
    }
   },
   "outputs": [],
   "source": [
    "#include <Rcpp.h>\n",
    "using namespace Rcpp;\n",
    "\n",
    "// [[Rcpp::export]]\n",
    "double weighted_mean_cpp(NumericVector x, NumericVector w) {\n",
    "  double total_w = 0;\n",
    "  double total_xw = 0;\n",
    "\n",
    "  int n = x.size();\n",
    "\n",
    "  for(int i = 0; i < n; i++) {\n",
    "    // If the ith element of x or w is NA then return NA\n",
    "    if(NumericVector::is_na(x[i]) || NumericVector::is_na(w[i])) {\n",
    "      return NumericVector::get_na();\n",
    "    }\n",
    "    total_w += w[i];\n",
    "    total_xw += x[i] * w[i];\n",
    "  }\n",
    "\n",
    "  return total_xw / total_w;\n",
    "}\n",
    "\n",
    "/*** R\n",
    "x <- c(0, 1, 3, 6, 2, 7, 13, NA, 12, 21, 11)\n",
    "w <- 1 / seq_along(x)\n",
    "weighted_mean_cpp(x, w)\n",
    "*/"
   ]
  },
  {
   "cell_type": "code",
   "execution_count": null,
   "metadata": {
    "vscode": {
     "languageId": "r"
    }
   },
   "outputs": [],
   "source": [
    "# This is terrible code, because it's like appending alist. But C is cheaper by not making copies of the vector with each append.\n",
    "\n",
    "#include <Rcpp.h>\n",
    "using namespace Rcpp;\n",
    "\n",
    "// Set the return type to a standard double vector\n",
    "// [[Rcpp::export]]\n",
    "std::vector<double> select_positive_values_std(NumericVector x) {\n",
    "  int n = x.size();\n",
    "\n",
    "  // Create positive_x, a standard double vector\n",
    "  std::vector<double> positive_x;\n",
    "\n",
    "  for(int i = 0; i < n; i++) {\n",
    "    if(x[i] > 0) {\n",
    "      // Append the ith element of x to positive_x\n",
    "      positive_x.push_back(x[i]);\n",
    "    }\n",
    "  }\n",
    "  return positive_x;\n",
    "}\n",
    "\n",
    "/*** R\n",
    "set.seed(42)\n",
    "x <- rnorm(1e6)\n",
    "# Does it give the same answer as R?\n",
    "all.equal(select_positive_values_std(x), x[x > 0])\n",
    "# Which is faster?\n",
    "microbenchmark(\n",
    "  good_cpp = good_select_positive_values_cpp(x),\n",
    "  std = select_positive_values_std(x)\n",
    ")\n",
    "*/"
   ]
  },
  {
   "cell_type": "code",
   "execution_count": null,
   "metadata": {
    "vscode": {
     "languageId": "r"
    }
   },
   "outputs": [],
   "source": [
    "#include <Rcpp.h>\n",
    "using namespace Rcpp;\n",
    "\n",
    "// [[Rcpp::export]]\n",
    "NumericVector positive_rnorm(int n, double mean, double sd) {\n",
    "  // Specify out as a numeric vector of size n\n",
    "  NumericVector out(n);\n",
    "\n",
    "  // This loops over the elements of out\n",
    "  for(int i = 0; i < n; i++) {\n",
    "    // This loop keeps trying to generate a value\n",
    "    do {\n",
    "      // Call R's rnorm()\n",
    "      out[i] = R::rnorm(mean, sd);\n",
    "      // While the number is negative, keep trying\n",
    "    } while(out[i]<=0);\n",
    "  }\n",
    "  return out;\n",
    "}\n",
    "\n",
    "/*** R\n",
    "  positive_rnorm(10, 2, 2)\n",
    "*/"
   ]
  },
  {
   "cell_type": "code",
   "execution_count": null,
   "metadata": {
    "vscode": {
     "languageId": "r"
    }
   },
   "outputs": [],
   "source": [
    "#include <Rcpp.h>\n",
    "using namespace Rcpp;\n",
    "\n",
    "// From previous exercise; do not modify\n",
    "// [[Rcpp::export]]\n",
    "int choose_component(NumericVector weights, double total_weight) {\n",
    "  double x = R::runif(0, total_weight);\n",
    "  int j = 0;\n",
    "  while(x >= weights[j]) {\n",
    "    x -= weights[j];\n",
    "    j++;\n",
    "  }\n",
    "  return j;\n",
    "}\n",
    "\n",
    "// [[Rcpp::export]]\n",
    "NumericVector rmix(int n, NumericVector weights, NumericVector means, NumericVector sds) {\n",
    "  // Check that weights and means have the same size\n",
    "  int d = weights.size();\n",
    "  if(means.size() != d) {\n",
    "    stop(\"means size != weights size\");\n",
    "  }\n",
    "  // Do the same for the weights and std devs\n",
    "  if(sds.size() != d) {\n",
    "    stop(\"sds size != weights size\");\n",
    "  }\n",
    "\n",
    "  // Calculate the total weight\n",
    "  double total_weight = sum(weights);\n",
    "\n",
    "  // Create the output vector\n",
    "  NumericVector res(n);\n",
    "\n",
    "  // Fill the vector\n",
    "  for(int i = 0; i < n; i++) {\n",
    "    // Choose a component\n",
    "    int j = choose_component(weights, total_weight);\n",
    "\n",
    "    // Simulate from the chosen component\n",
    "    res[i] = R::rnorm(means[j], sds[j]);\n",
    "  }\n",
    "\n",
    "  return res;\n",
    "}\n",
    "\n",
    "/*** R\n",
    "  weights <- c(0.3, 0.7)\n",
    "  means <- c(2, 4)\n",
    "  sds <- c(2, 4)\n",
    "  rmix(10, weights, means, sds)\n",
    "*/"
   ]
  },
  {
   "cell_type": "code",
   "execution_count": 3,
   "metadata": {
    "vscode": {
     "languageId": "r"
    }
   },
   "outputs": [
    {
     "name": "stdout",
     "output_type": "stream",
     "text": [
      "[1] 0.2493567\n",
      "[1] -0.08088453\n",
      "[1] 0.2008669\n"
     ]
    },
    {
     "data": {
      "text/html": [
       "<style>\n",
       ".list-inline {list-style: none; margin:0; padding: 0}\n",
       ".list-inline>li {display: inline-block}\n",
       ".list-inline>li:not(:last-child)::after {content: \"\\00b7\"; padding: 0 .5ex}\n",
       "</style>\n",
       "<ol class=list-inline><li>&lt;NA&gt;</li><li>&lt;NA&gt;</li><li>0.249356665943226</li><li>-0.0808845298266503</li><li>0.200866939874107</li></ol>\n"
      ],
      "text/latex": [
       "\\begin{enumerate*}\n",
       "\\item <NA>\n",
       "\\item <NA>\n",
       "\\item 0.249356665943226\n",
       "\\item -0.0808845298266503\n",
       "\\item 0.200866939874107\n",
       "\\end{enumerate*}\n"
      ],
      "text/markdown": [
       "1. &lt;NA&gt;\n",
       "2. &lt;NA&gt;\n",
       "3. 0.249356665943226\n",
       "4. -0.0808845298266503\n",
       "5. 0.200866939874107\n",
       "\n",
       "\n"
      ],
      "text/plain": [
       "[1]          NA          NA  0.24935667 -0.08088453  0.20086694"
      ]
     },
     "metadata": {},
     "output_type": "display_data"
    }
   ],
   "source": [
    "x <- rnorm(5, 0, 1)\n",
    "rollmean1 <- function(x, window = 3) {\n",
    "  n <- length(x)\n",
    "  res <- rep(NA, n)\n",
    "  for (i in seq(window, n)) {\n",
    "    res[i] <- mean(x[seq(i - window + 1, i)])\n",
    "    print(res[i])\n",
    "  }\n",
    "  res\n",
    "}\n",
    "\n",
    "rollmean1(x, 3)\n"
   ]
  },
  {
   "cell_type": "code",
   "execution_count": null,
   "metadata": {
    "vscode": {
     "languageId": "r"
    }
   },
   "outputs": [],
   "source": [
    "# From previous step; do not modify\n",
    "rollmean3 <- function(x, window = 3) {\n",
    "  initial_total <- sum(head(x, window))\n",
    "  lasts <- tail(x, -window)\n",
    "  firsts <- head(x, -window)\n",
    "  other_totals <- initial_total + cumsum(lasts - firsts)\n",
    "  c(rep(NA, window - 1), initial_total / window, other_totals / window)\n",
    "}\n",
    "\n",
    "# This checks rollmean1() and rollmean2() give the same result\n",
    "all.equal(rollmean1(x), rollmean2(x))\n",
    "\n",
    "# This checks rollmean1() and rollmean3() give the same result\n",
    "all.equal(rollmean1(x), rollmean3(x))\n",
    "\n",
    "# Benchmark the performance\n",
    "microbenchmark(\n",
    "  rollmean1(x),\n",
    "  rollmean2(x),\n",
    "  rollmean3(x),\n",
    "  times = 5\n",
    ")\n"
   ]
  },
  {
   "cell_type": "code",
   "execution_count": null,
   "metadata": {
    "vscode": {
     "languageId": "r"
    }
   },
   "outputs": [],
   "source": [
    "# A C++ Rolling Mean\n",
    "\n",
    "#include <Rcpp.h>\n",
    "using namespace Rcpp;\n",
    "\n",
    "// [[Rcpp::export]]\n",
    "NumericVector rollmean4(NumericVector x, int window) {\n",
    "  int n = x.size();\n",
    "\n",
    "  // Set res as a NumericVector of NAs with length n\n",
    "  NumericVector res(n, NumericVector::get_na());\n",
    "\n",
    "  // Sum the first window worth of values of x\n",
    "  double total = 0.0;\n",
    "  for(int i = 0; i < window; i++) {\n",
    "    total += x[i];\n",
    "  }\n",
    "\n",
    "  // Treat the first case seperately\n",
    "  res[window - 1] = total / window;\n",
    "\n",
    "  // Iteratively update the total and recalculate the mean\n",
    "  for(int i = window; i < n; i++) {\n",
    "    // Remove the (i - window)th case, and add the ith case\n",
    "    total += - x[i - window] + x[i];\n",
    "    // Calculate the mean at the ith position\n",
    "    res[i] = total / window;\n",
    "  }\n",
    "\n",
    "  return res;\n",
    "}\n",
    "\n",
    "/*** R\n",
    "   # Compare rollmean2, rollmean3 and rollmean4\n",
    "   set.seed(42)\n",
    "   x <- rnorm(10000)\n",
    "   microbenchmark(\n",
    "    rollmean2(x, 4),\n",
    "    rollmean3(x, 4),\n",
    "    rollmean4(x, 4),\n",
    "    times = 5\n",
    "   )\n",
    "*/"
   ]
  },
  {
   "cell_type": "markdown",
   "metadata": {},
   "source": [
    "The function na_locf2 takes a NumericVector x as an argument. The NumericVector is a data type in Rcpp that corresponds to the numeric vector in R.\n",
    "\n",
    "The variable current is initialized to NA using NumericVector::get_na(). This is the equivalent of current <- NA in R.\n",
    "\n",
    "The size of the vector x is stored in the variable n. A new NumericVector res is created as a clone of x. This is similar to res <- x in R.\n",
    "\n",
    "Then, a for loop is used to iterate over each element in x. If the ith element of x is NA (checked using NumericVector::is_na(x[i])), the ith element of res is set to current. This is the equivalent of res[i] <- current in R when is.na(x[i]) is TRUE.\n",
    "\n",
    "If the ith element of x is not NA, current is set to the ith element of x. This is the equivalent of current <- x[i] in R when is.na(x[i]) is FALSE.\n",
    "\n",
    "Finally, the function returns res, which is a vector that replaces all NA values in x with the last observed non-NA value.\n",
    "\n",
    "The R code at the end is used to benchmark the performance of the Rcpp function na_locf2 against the R function na_locf1. It generates a random numeric vector x with some NA values, and then measures the time taken to execute each function a few times. This is not part of the solution to the exercise, but it's a good practice to check the performance of your code.\n"
   ]
  },
  {
   "cell_type": "code",
   "execution_count": null,
   "metadata": {
    "vscode": {
     "languageId": "r"
    }
   },
   "outputs": [],
   "source": [
    "#include <Rcpp.h>\n",
    "using namespace Rcpp;\n",
    "\n",
    "// [[Rcpp::export]]\n",
    "NumericVector na_locf2(NumericVector x) {\n",
    "  // Initialize to NA\n",
    "  double current = NumericVector::get_na();\n",
    "\n",
    "  int n = x.size();\n",
    "  NumericVector res = clone(x);\n",
    "  for(int i = 0; i < n; i++) {\n",
    "    // If ith value of x is NA\n",
    "    if(NumericVector::is_na(x[i])) {\n",
    "      // Set ith result as current\n",
    "      res[i] = current;\n",
    "    } else {\n",
    "      // Set current as ith value of x\n",
    "      current = x[i];\n",
    "    }\n",
    "  }\n",
    "  return res ;\n",
    "}\n",
    "\n",
    "/*** R\n",
    "  library(microbenchmark)\n",
    "  set.seed(42)\n",
    "  x <- rnorm(1e5)\n",
    "  # Sprinkle some NA into x\n",
    "  x[sample(1e5, 100)] <- NA\n",
    "  microbenchmark(\n",
    "    na_locf1(x),\n",
    "    na_locf2(x),\n",
    "    times = 5\n",
    "  )\n",
    "*/"
   ]
  },
  {
   "cell_type": "markdown",
   "metadata": {},
   "source": [
    "\"The R version needs to create an intermediate vector the same length as y (x - ys), and allocating memory is an expensive operation. The C++ function avoids this overhead because it uses an intermediate scalar.\"\n"
   ]
  },
  {
   "cell_type": "code",
   "execution_count": null,
   "metadata": {
    "vscode": {
     "languageId": "r"
    }
   },
   "outputs": [],
   "source": [
    "#include <Rcpp.h>\n",
    "using namespace Rcpp;\n",
    "\n",
    "// [[Rcpp::export]]\n",
    "NumericVector na_meancf2(NumericVector x) {\n",
    "  double total_not_na = 0.0;\n",
    "  double n_not_na = 0.0;\n",
    "  NumericVector res = clone(x);\n",
    "\n",
    "  int n = x.size();\n",
    "  for(int i = 0; i < n; i++) {\n",
    "    // If ith value of x is NA\n",
    "    if(NumericVector::is_na(x[i])) {\n",
    "      // Set the ith result to the total of non-missing values\n",
    "      // divided by the number of non-missing values\n",
    "      res[i] = total_not_na / n_not_na;\n",
    "    } else {\n",
    "      // Add the ith value of x to the total of non-missing values\n",
    "      total_not_na += x[i];\n",
    "      // Add 1 to the number of missing values\n",
    "      n_not_na++;\n",
    "    }\n",
    "  }\n",
    "  return res;\n",
    "}\n",
    "\n",
    "/*** R\n",
    "  library(microbenchmark)\n",
    "  set.seed(42)\n",
    "  x <- rnorm(1e5)\n",
    "  x[sample(1e5, 100)] <- NA\n",
    "  microbenchmark(\n",
    "    na_meancf1(x),\n",
    "    na_meancf2(x),\n",
    "    times = 5\n",
    "  )\n",
    "*/"
   ]
  },
  {
   "cell_type": "code",
   "execution_count": null,
   "metadata": {
    "vscode": {
     "languageId": "r"
    }
   },
   "outputs": [],
   "source": [
    "# An AR model\n",
    "#include <Rcpp.h>\n",
    "using namespace Rcpp;\n",
    "\n",
    "// [[Rcpp::export]]\n",
    "NumericVector ar2(int n, double c, NumericVector phi, double eps) {\n",
    "  int p = phi.size();\n",
    "  NumericVector x(n);\n",
    "\n",
    "  // Loop from p to n\n",
    "  for(int i = p; i < n; i++) {\n",
    "    // Generate a random number from the normal distribution\n",
    "    double value = R::rnorm(c, eps);\n",
    "    // Loop from zero to p\n",
    "    for(int j = 0; j < p; j++) {\n",
    "      // Increase by the jth element of phi times\n",
    "      // the \"i minus j minus 1\"th element of x\n",
    "      value += phi[j] * x[i - j - 1];\n",
    "    }\n",
    "    x[i] = value;\n",
    "  }\n",
    "  return x;\n",
    "}\n",
    "\n",
    "/*** R\n",
    "d <- data.frame(\n",
    "  x = 1:50,\n",
    "  y = ar2(50, 10, c(1, -0.5), 1)\n",
    ")\n",
    "ggplot(d, aes(x, y)) + geom_line()\n",
    "*/"
   ]
  },
  {
   "cell_type": "code",
   "execution_count": null,
   "metadata": {
    "vscode": {
     "languageId": "r"
    }
   },
   "outputs": [],
   "source": [
    "ma1 <- function(n, mu, theta, sd) {\n",
    "  q <- length(theta)\n",
    "  x <- numeric(n)\n",
    "  eps <- rnorm(n, 0, sd)\n",
    "  for (i in seq(q + 1, n)) {\n",
    "    value <- mu + eps[i]\n",
    "    for (j in seq_len(q)) {\n",
    "      value <- value + theta[j] * eps[i - j]\n",
    "    }\n",
    "    x[i] <- value\n",
    "  }\n",
    "  x\n",
    "}\n"
   ]
  },
  {
   "cell_type": "markdown",
   "metadata": {},
   "source": []
  },
  {
   "cell_type": "code",
   "execution_count": null,
   "metadata": {
    "vscode": {
     "languageId": "r"
    }
   },
   "outputs": [],
   "source": [
    "#include <Rcpp.h>\n",
    "using namespace Rcpp;\n",
    "\n",
    "// [[Rcpp::export]]\n",
    "NumericVector ma2(int n, double mu, NumericVector theta, double sd) {\n",
    "  int q = theta.size();\n",
    "  NumericVector x(n);\n",
    "\n",
    "  // Generate the noise vector\n",
    "  NumericVector eps = rnorm(n, 0.0, sd);\n",
    "\n",
    "  // Loop from q to n\n",
    "  for(int i = q; i < n; i++) {\n",
    "    // Value is mean plus noise\n",
    "    double value = mu + eps[i];\n",
    "    // Loop from zero to q\n",
    "    for(int j = 0; j < q; j++) {\n",
    "      // Increase by the jth element of theta times\n",
    "      // the \"i minus j minus 1\"th element of eps\n",
    "      value += theta[j] * eps[i - j - 1];\n",
    "    }\n",
    "    // Set ith element of x to value\n",
    "    x[i] = value;\n",
    "  }\n",
    "  return x;\n",
    "}\n",
    "\n",
    "/*** R\n",
    "d <- data.frame(\n",
    "  x = 1:50,\n",
    "  y = ma2(50, 10, c(1, -0.5), 1)\n",
    ")\n",
    "ggplot(d, aes(x, y)) + geom_line()\n",
    "*/"
   ]
  },
  {
   "cell_type": "code",
   "execution_count": null,
   "metadata": {
    "vscode": {
     "languageId": "r"
    }
   },
   "outputs": [],
   "source": [
    "This solution solves the exercise by implementing the instructions step by step in Rcpp.\n",
    "\n",
    "First, it defines a function ma2 that takes four arguments: n (the size of the vector), mu (the mean), theta (a vector of coefficients), and sd (the standard deviation).\n",
    "\n",
    "The function starts by initializing a vector x of size n and a vector eps of size n with random numbers generated from a normal distribution with mean 0 and standard deviation sd. This is done using the rnorm() function from the Rcpp namespace, as per the first instruction.\n",
    "\n",
    "Then, it enters a loop that runs from q (the size of theta) to n. Inside this loop, it calculates value as mu plus the ith noise value, as per the second instruction.\n",
    "\n",
    "Next, it enters a nested loop that runs from 0 to q. Inside this loop, it increases value by the jth element of theta times the \"i minus j minus 1\"th element of eps, as per the third instruction.\n",
    "\n",
    "After the loops, it sets the ith element of x to value, as per the fourth instruction.\n",
    "\n",
    "Finally, it returns the vector x.\n",
    "\n",
    "The R code at the end of the script is used to test the function by generating a data frame d with two columns: x (a sequence from 1 to 50) and y (the result of the ma2 function). It then plots y against x using ggplot2."
   ]
  },
  {
   "cell_type": "code",
   "execution_count": null,
   "metadata": {
    "vscode": {
     "languageId": "r"
    }
   },
   "outputs": [],
   "source": [
    "#include <Rcpp.h>\n",
    "using namespace Rcpp;\n",
    "\n",
    "// [[Rcpp::export]]\n",
    "NumericVector ma2(int n, double mu, NumericVector theta, double sd) {\n",
    "  int q = theta.size();\n",
    "  NumericVector x(n);\n",
    "\n",
    "  // Generate the noise vector\n",
    "  NumericVector eps = rnorm(n, 0.0, sd);\n",
    "\n",
    "  // Loop from q to n\n",
    "  for(int i = q; i < n; i++) {\n",
    "    // Value is mean plus noise\n",
    "    double value = mu + eps[i];\n",
    "    // Loop from zero to q\n",
    "    for(int j = 0; j < q; j++) {\n",
    "      // Increase by the jth element of theta times\n",
    "      // the \"i minus j minus 1\"th element of eps\n",
    "      value += theta[j] * eps[i - j - 1];\n",
    "    }\n",
    "    // Set ith element of x to value\n",
    "    x[i] = value;\n",
    "  }\n",
    "  return x;\n",
    "}\n",
    "\n",
    "/*** R\n",
    "d <- data.frame(\n",
    "  x = 1:50,\n",
    "  y = ma2(50, 10, c(1, -0.5), 1)\n",
    ")\n",
    "ggplot(d, aes(x, y)) + geom_line()\n",
    "*/"
   ]
  },
  {
   "cell_type": "code",
   "execution_count": null,
   "metadata": {
    "vscode": {
     "languageId": "r"
    }
   },
   "outputs": [],
   "source": [
    "#include <Rcpp.h>\n",
    "using namespace Rcpp;\n",
    "\n",
    "// [[Rcpp::export]]\n",
    "NumericVector arma(int n, double mu, NumericVector phi, NumericVector theta, double sd) {\n",
    "  int p = phi.size();\n",
    "  int q = theta.size();\n",
    "  NumericVector x(n);\n",
    "\n",
    "  // Generate the noise vector\n",
    "  NumericVector eps = rnorm(n, 0.0, sd);\n",
    "\n",
    "  // Start at the max of p and q plus 1\n",
    "  int start = std::max(p, q) + 1;\n",
    "\n",
    "  // Loop i from start to n\n",
    "  for(int i = start; i < n; i++) {\n",
    "    // Value is mean plus noise\n",
    "    double value = mu + eps[i];\n",
    "\n",
    "    // The MA(q) part\n",
    "    for(int j = 0; j < q; j++) {\n",
    "      // Increase by the jth element of theta times\n",
    "      // the \"i minus j minus 1\"th element of eps\n",
    "      value += theta[j] * eps[i - j - 1];\n",
    "    }\n",
    "\n",
    "    // The AR(p) part\n",
    "    for(int j = 0; j < p; j++) {\n",
    "      // Increase by the jth element of phi times\n",
    "      // the \"i minus j minus 1\"th element of x\n",
    "      value += phi[j] * x[i - j - 1];\n",
    "    }\n",
    "\n",
    "    x[i] = value;\n",
    "  }\n",
    "  return x;\n",
    "}\n",
    "\n",
    "/*** R\n",
    "d <- data.frame(\n",
    "  x = 1:50,\n",
    "  y = arma(50, 10, c(1, -0.5), c(1, -0.5), 1)\n",
    ")\n",
    "ggplot(d, aes(x, y)) + geom_line()\n",
    "*/"
   ]
  }
 ],
 "metadata": {
  "kernelspec": {
   "display_name": "R",
   "language": "R",
   "name": "ir"
  },
  "language_info": {
   "codemirror_mode": "r",
   "file_extension": ".r",
   "mimetype": "text/x-r-source",
   "name": "R",
   "pygments_lexer": "r",
   "version": "4.2.0"
  }
 },
 "nbformat": 4,
 "nbformat_minor": 2
}
